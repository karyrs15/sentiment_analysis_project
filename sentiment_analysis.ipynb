{
 "cells": [
  {
   "cell_type": "markdown",
   "metadata": {
    "colab_type": "text",
    "id": "dhbgY8sWEi4v"
   },
   "source": [
    "## Sentiment Analysis"
   ]
  },
  {
   "cell_type": "code",
   "execution_count": 7,
   "metadata": {
    "colab": {
     "base_uri": "https://localhost:8080/",
     "height": 138
    },
    "colab_type": "code",
    "executionInfo": {
     "elapsed": 23366,
     "status": "ok",
     "timestamp": 1590293446514,
     "user": {
      "displayName": "Karina Reyes",
      "photoUrl": "https://lh3.googleusercontent.com/a-/AOh14GiupGB3xDxzXXRETrierC907ibyYiIxiPSUkO_0og=s64",
      "userId": "16604232998867032878"
     },
     "user_tz": 300
    },
    "id": "gVWI1VtSEnEO",
    "outputId": "e00e34a7-318c-412c-a487-a2c191117953"
   },
   "outputs": [
    {
     "name": "stdout",
     "output_type": "stream",
     "text": [
      "Go to this URL in a browser: https://accounts.google.com/o/oauth2/auth?client_id=947318989803-6bn6qk8qdgf4n4g3pfee6491hc0brc4i.apps.googleusercontent.com&redirect_uri=urn%3aietf%3awg%3aoauth%3a2.0%3aoob&response_type=code&scope=email%20https%3a%2f%2fwww.googleapis.com%2fauth%2fdocs.test%20https%3a%2f%2fwww.googleapis.com%2fauth%2fdrive%20https%3a%2f%2fwww.googleapis.com%2fauth%2fdrive.photos.readonly%20https%3a%2f%2fwww.googleapis.com%2fauth%2fpeopleapi.readonly\n",
      "\n",
      "Enter your authorization code:\n",
      "··········\n",
      "Mounted at /content/drive\n",
      "/content/drive/My Drive/Colab Notebooks/sentiment analysis project\n"
     ]
    }
   ],
   "source": [
    "from google.colab import drive\n",
    "drive.mount('/content/drive')\n",
    "%cd '/content/drive/My Drive/Colab Notebooks/sentiment analysis project'"
   ]
  },
  {
   "cell_type": "code",
   "execution_count": 8,
   "metadata": {
    "colab": {
     "base_uri": "https://localhost:8080/",
     "height": 50
    },
    "colab_type": "code",
    "executionInfo": {
     "elapsed": 380,
     "status": "ok",
     "timestamp": 1590293448112,
     "user": {
      "displayName": "Karina Reyes",
      "photoUrl": "https://lh3.googleusercontent.com/a-/AOh14GiupGB3xDxzXXRETrierC907ibyYiIxiPSUkO_0og=s64",
      "userId": "16604232998867032878"
     },
     "user_tz": 300
    },
    "id": "Rfv3Xq-fEi4z",
    "outputId": "9b59cf6e-6f2f-48e3-88bb-54a7a37bebe9"
   },
   "outputs": [
    {
     "name": "stdout",
     "output_type": "stream",
     "text": [
      "[nltk_data] Downloading package stopwords to /root/nltk_data...\n",
      "[nltk_data]   Package stopwords is already up-to-date!\n"
     ]
    }
   ],
   "source": [
    "# import modules needeed\n",
    "import tensorflow as tf\n",
    "import matplotlib.pyplot as plt\n",
    "import pandas as pd\n",
    "import numpy as np\n",
    "from numpy import asarray\n",
    "from numpy import zeros\n",
    "import nltk\n",
    "import re\n",
    "import pickle\n",
    "from sklearn.model_selection import train_test_split\n",
    "from sklearn.preprocessing import LabelEncoder\n",
    "from keras.preprocessing.text import Tokenizer\n",
    "from keras.preprocessing.sequence import pad_sequences\n",
    "from keras.models import Sequential\n",
    "from keras.models import load_model\n",
    "from keras.layers import Embedding, LSTM\n",
    "from keras.layers.core import Dense, Dropout\n",
    "from keras.callbacks import ReduceLROnPlateau\n",
    "\n",
    "# download stopwords (we're gonna need it later)\n",
    "nltk.download('stopwords')\n",
    "from nltk.corpus import stopwords"
   ]
  },
  {
   "cell_type": "code",
   "execution_count": 78,
   "metadata": {
    "colab": {
     "base_uri": "https://localhost:8080/",
     "height": 212
    },
    "colab_type": "code",
    "executionInfo": {
     "elapsed": 9601,
     "status": "ok",
     "timestamp": 1590280485499,
     "user": {
      "displayName": "Karina Reyes",
      "photoUrl": "https://lh3.googleusercontent.com/a-/AOh14GiupGB3xDxzXXRETrierC907ibyYiIxiPSUkO_0og=s64",
      "userId": "16604232998867032878"
     },
     "user_tz": 300
    },
    "id": "DlRICB_YEi5F",
    "outputId": "257f2d20-c6bf-455c-ee11-50fef1bfe5d2"
   },
   "outputs": [
    {
     "name": "stdout",
     "output_type": "stream",
     "text": [
      "Loading data...\n"
     ]
    },
    {
     "data": {
      "text/html": [
       "<div>\n",
       "<style scoped>\n",
       "    .dataframe tbody tr th:only-of-type {\n",
       "        vertical-align: middle;\n",
       "    }\n",
       "\n",
       "    .dataframe tbody tr th {\n",
       "        vertical-align: top;\n",
       "    }\n",
       "\n",
       "    .dataframe thead th {\n",
       "        text-align: right;\n",
       "    }\n",
       "</style>\n",
       "<table border=\"1\" class=\"dataframe\">\n",
       "  <thead>\n",
       "    <tr style=\"text-align: right;\">\n",
       "      <th></th>\n",
       "      <th>0</th>\n",
       "      <th>1</th>\n",
       "      <th>2</th>\n",
       "      <th>3</th>\n",
       "      <th>4</th>\n",
       "      <th>5</th>\n",
       "    </tr>\n",
       "  </thead>\n",
       "  <tbody>\n",
       "    <tr>\n",
       "      <th>0</th>\n",
       "      <td>0</td>\n",
       "      <td>1467810369</td>\n",
       "      <td>Mon Apr 06 22:19:45 PDT 2009</td>\n",
       "      <td>NO_QUERY</td>\n",
       "      <td>_TheSpecialOne_</td>\n",
       "      <td>@switchfoot http://twitpic.com/2y1zl - Awww, t...</td>\n",
       "    </tr>\n",
       "    <tr>\n",
       "      <th>1</th>\n",
       "      <td>0</td>\n",
       "      <td>1467810672</td>\n",
       "      <td>Mon Apr 06 22:19:49 PDT 2009</td>\n",
       "      <td>NO_QUERY</td>\n",
       "      <td>scotthamilton</td>\n",
       "      <td>is upset that he can't update his Facebook by ...</td>\n",
       "    </tr>\n",
       "    <tr>\n",
       "      <th>2</th>\n",
       "      <td>0</td>\n",
       "      <td>1467810917</td>\n",
       "      <td>Mon Apr 06 22:19:53 PDT 2009</td>\n",
       "      <td>NO_QUERY</td>\n",
       "      <td>mattycus</td>\n",
       "      <td>@Kenichan I dived many times for the ball. Man...</td>\n",
       "    </tr>\n",
       "    <tr>\n",
       "      <th>3</th>\n",
       "      <td>0</td>\n",
       "      <td>1467811184</td>\n",
       "      <td>Mon Apr 06 22:19:57 PDT 2009</td>\n",
       "      <td>NO_QUERY</td>\n",
       "      <td>ElleCTF</td>\n",
       "      <td>my whole body feels itchy and like its on fire</td>\n",
       "    </tr>\n",
       "    <tr>\n",
       "      <th>4</th>\n",
       "      <td>0</td>\n",
       "      <td>1467811193</td>\n",
       "      <td>Mon Apr 06 22:19:57 PDT 2009</td>\n",
       "      <td>NO_QUERY</td>\n",
       "      <td>Karoli</td>\n",
       "      <td>@nationwideclass no, it's not behaving at all....</td>\n",
       "    </tr>\n",
       "  </tbody>\n",
       "</table>\n",
       "</div>"
      ],
      "text/plain": [
       "   0  ...                                                  5\n",
       "0  0  ...  @switchfoot http://twitpic.com/2y1zl - Awww, t...\n",
       "1  0  ...  is upset that he can't update his Facebook by ...\n",
       "2  0  ...  @Kenichan I dived many times for the ball. Man...\n",
       "3  0  ...    my whole body feels itchy and like its on fire \n",
       "4  0  ...  @nationwideclass no, it's not behaving at all....\n",
       "\n",
       "[5 rows x 6 columns]"
      ]
     },
     "execution_count": 78,
     "metadata": {
      "tags": []
     },
     "output_type": "execute_result"
    }
   ],
   "source": [
    "# load data\n",
    "print(\"Loading data...\")\n",
    "df = pd.read_csv(\"./data/training.1600000.processed.noemoticon.csv\", encoding = 'latin', header = None)\n",
    "# show the first five rows of data (to check if everything's fine)\n",
    "df.head()"
   ]
  },
  {
   "cell_type": "code",
   "execution_count": 79,
   "metadata": {
    "colab": {
     "base_uri": "https://localhost:8080/",
     "height": 195
    },
    "colab_type": "code",
    "executionInfo": {
     "elapsed": 825,
     "status": "ok",
     "timestamp": 1590280501626,
     "user": {
      "displayName": "Karina Reyes",
      "photoUrl": "https://lh3.googleusercontent.com/a-/AOh14GiupGB3xDxzXXRETrierC907ibyYiIxiPSUkO_0og=s64",
      "userId": "16604232998867032878"
     },
     "user_tz": 300
    },
    "id": "cN9pPuzSEi5R",
    "outputId": "0c8f0900-44df-4f50-ef9c-b030fb1e8c2a"
   },
   "outputs": [
    {
     "data": {
      "text/html": [
       "<div>\n",
       "<style scoped>\n",
       "    .dataframe tbody tr th:only-of-type {\n",
       "        vertical-align: middle;\n",
       "    }\n",
       "\n",
       "    .dataframe tbody tr th {\n",
       "        vertical-align: top;\n",
       "    }\n",
       "\n",
       "    .dataframe thead th {\n",
       "        text-align: right;\n",
       "    }\n",
       "</style>\n",
       "<table border=\"1\" class=\"dataframe\">\n",
       "  <thead>\n",
       "    <tr style=\"text-align: right;\">\n",
       "      <th></th>\n",
       "      <th>target</th>\n",
       "      <th>id</th>\n",
       "      <th>date</th>\n",
       "      <th>flag</th>\n",
       "      <th>user</th>\n",
       "      <th>text</th>\n",
       "    </tr>\n",
       "  </thead>\n",
       "  <tbody>\n",
       "    <tr>\n",
       "      <th>0</th>\n",
       "      <td>0</td>\n",
       "      <td>1467810369</td>\n",
       "      <td>Mon Apr 06 22:19:45 PDT 2009</td>\n",
       "      <td>NO_QUERY</td>\n",
       "      <td>_TheSpecialOne_</td>\n",
       "      <td>@switchfoot http://twitpic.com/2y1zl - Awww, t...</td>\n",
       "    </tr>\n",
       "    <tr>\n",
       "      <th>1</th>\n",
       "      <td>0</td>\n",
       "      <td>1467810672</td>\n",
       "      <td>Mon Apr 06 22:19:49 PDT 2009</td>\n",
       "      <td>NO_QUERY</td>\n",
       "      <td>scotthamilton</td>\n",
       "      <td>is upset that he can't update his Facebook by ...</td>\n",
       "    </tr>\n",
       "    <tr>\n",
       "      <th>2</th>\n",
       "      <td>0</td>\n",
       "      <td>1467810917</td>\n",
       "      <td>Mon Apr 06 22:19:53 PDT 2009</td>\n",
       "      <td>NO_QUERY</td>\n",
       "      <td>mattycus</td>\n",
       "      <td>@Kenichan I dived many times for the ball. Man...</td>\n",
       "    </tr>\n",
       "    <tr>\n",
       "      <th>3</th>\n",
       "      <td>0</td>\n",
       "      <td>1467811184</td>\n",
       "      <td>Mon Apr 06 22:19:57 PDT 2009</td>\n",
       "      <td>NO_QUERY</td>\n",
       "      <td>ElleCTF</td>\n",
       "      <td>my whole body feels itchy and like its on fire</td>\n",
       "    </tr>\n",
       "    <tr>\n",
       "      <th>4</th>\n",
       "      <td>0</td>\n",
       "      <td>1467811193</td>\n",
       "      <td>Mon Apr 06 22:19:57 PDT 2009</td>\n",
       "      <td>NO_QUERY</td>\n",
       "      <td>Karoli</td>\n",
       "      <td>@nationwideclass no, it's not behaving at all....</td>\n",
       "    </tr>\n",
       "  </tbody>\n",
       "</table>\n",
       "</div>"
      ],
      "text/plain": [
       "   target  ...                                               text\n",
       "0       0  ...  @switchfoot http://twitpic.com/2y1zl - Awww, t...\n",
       "1       0  ...  is upset that he can't update his Facebook by ...\n",
       "2       0  ...  @Kenichan I dived many times for the ball. Man...\n",
       "3       0  ...    my whole body feels itchy and like its on fire \n",
       "4       0  ...  @nationwideclass no, it's not behaving at all....\n",
       "\n",
       "[5 rows x 6 columns]"
      ]
     },
     "execution_count": 79,
     "metadata": {
      "tags": []
     },
     "output_type": "execute_result"
    }
   ],
   "source": [
    "# change columns names for reference\n",
    "df.columns = ['target', 'id', 'date', 'flag', 'user', 'text']\n",
    "# show the first five rows of data (now it has proper headers)\n",
    "df.head()"
   ]
  },
  {
   "cell_type": "code",
   "execution_count": 80,
   "metadata": {
    "colab": {
     "base_uri": "https://localhost:8080/",
     "height": 195
    },
    "colab_type": "code",
    "executionInfo": {
     "elapsed": 821,
     "status": "ok",
     "timestamp": 1590280511864,
     "user": {
      "displayName": "Karina Reyes",
      "photoUrl": "https://lh3.googleusercontent.com/a-/AOh14GiupGB3xDxzXXRETrierC907ibyYiIxiPSUkO_0og=s64",
      "userId": "16604232998867032878"
     },
     "user_tz": 300
    },
    "id": "oqXAV4SOEi5c",
    "outputId": "94b56a6c-0016-40d7-e8dd-5fad0813d0fe"
   },
   "outputs": [
    {
     "data": {
      "text/html": [
       "<div>\n",
       "<style scoped>\n",
       "    .dataframe tbody tr th:only-of-type {\n",
       "        vertical-align: middle;\n",
       "    }\n",
       "\n",
       "    .dataframe tbody tr th {\n",
       "        vertical-align: top;\n",
       "    }\n",
       "\n",
       "    .dataframe thead th {\n",
       "        text-align: right;\n",
       "    }\n",
       "</style>\n",
       "<table border=\"1\" class=\"dataframe\">\n",
       "  <thead>\n",
       "    <tr style=\"text-align: right;\">\n",
       "      <th></th>\n",
       "      <th>target</th>\n",
       "      <th>text</th>\n",
       "    </tr>\n",
       "  </thead>\n",
       "  <tbody>\n",
       "    <tr>\n",
       "      <th>0</th>\n",
       "      <td>0</td>\n",
       "      <td>@switchfoot http://twitpic.com/2y1zl - Awww, t...</td>\n",
       "    </tr>\n",
       "    <tr>\n",
       "      <th>1</th>\n",
       "      <td>0</td>\n",
       "      <td>is upset that he can't update his Facebook by ...</td>\n",
       "    </tr>\n",
       "    <tr>\n",
       "      <th>2</th>\n",
       "      <td>0</td>\n",
       "      <td>@Kenichan I dived many times for the ball. Man...</td>\n",
       "    </tr>\n",
       "    <tr>\n",
       "      <th>3</th>\n",
       "      <td>0</td>\n",
       "      <td>my whole body feels itchy and like its on fire</td>\n",
       "    </tr>\n",
       "    <tr>\n",
       "      <th>4</th>\n",
       "      <td>0</td>\n",
       "      <td>@nationwideclass no, it's not behaving at all....</td>\n",
       "    </tr>\n",
       "  </tbody>\n",
       "</table>\n",
       "</div>"
      ],
      "text/plain": [
       "   target                                               text\n",
       "0       0  @switchfoot http://twitpic.com/2y1zl - Awww, t...\n",
       "1       0  is upset that he can't update his Facebook by ...\n",
       "2       0  @Kenichan I dived many times for the ball. Man...\n",
       "3       0    my whole body feels itchy and like its on fire \n",
       "4       0  @nationwideclass no, it's not behaving at all...."
      ]
     },
     "execution_count": 80,
     "metadata": {
      "tags": []
     },
     "output_type": "execute_result"
    }
   ],
   "source": [
    "# drop useless columns\n",
    "df = df.drop(['id', 'date', 'flag', 'user'], axis = 1)\n",
    "# show the first five rows of data (to verify again)\n",
    "df.head()"
   ]
  },
  {
   "cell_type": "code",
   "execution_count": 81,
   "metadata": {
    "colab": {
     "base_uri": "https://localhost:8080/",
     "height": 67
    },
    "colab_type": "code",
    "executionInfo": {
     "elapsed": 615,
     "status": "ok",
     "timestamp": 1590280514020,
     "user": {
      "displayName": "Karina Reyes",
      "photoUrl": "https://lh3.googleusercontent.com/a-/AOh14GiupGB3xDxzXXRETrierC907ibyYiIxiPSUkO_0og=s64",
      "userId": "16604232998867032878"
     },
     "user_tz": 300
    },
    "id": "pTTfDYC5Ei5l",
    "outputId": "f55f77e5-1fb9-46fa-9db0-1e932f3a5186"
   },
   "outputs": [
    {
     "data": {
      "text/plain": [
       "4    800000\n",
       "0    800000\n",
       "Name: target, dtype: int64"
      ]
     },
     "execution_count": 81,
     "metadata": {
      "tags": []
     },
     "output_type": "execute_result"
    }
   ],
   "source": [
    "# count dataset samples to know how many of each class we have\n",
    "df.target.value_counts()"
   ]
  },
  {
   "cell_type": "code",
   "execution_count": 0,
   "metadata": {
    "colab": {},
    "colab_type": "code",
    "id": "2EA3y9sWEi5v"
   },
   "outputs": [],
   "source": [
    "# clean text to remove users, links and stopwords and then split it in tokens\n",
    "def clean_text(text):\n",
    "    text_cleaning_re = \"@\\S+|https?:\\S+|http?:\\S|[^A-Za-z0-9]+\"\n",
    "    text = re.sub(text_cleaning_re, ' ', str(text).lower()).strip()\n",
    "    \n",
    "    tokens = text.split()\n",
    "    stop_words = set(stopwords.words('english'))\n",
    "    tokens = [w for w in tokens if w not in stop_words]\n",
    "    \n",
    "    return \" \".join(tokens)"
   ]
  },
  {
   "cell_type": "code",
   "execution_count": 0,
   "metadata": {
    "colab": {},
    "colab_type": "code",
    "id": "L8pAKT1l4PSC"
   },
   "outputs": [],
   "source": [
    "# apply clean_text function in our data\n",
    "df.text = df.text.apply(lambda x: clean_text(x))\n",
    "# show the first five rows of data (to verify again)\n",
    "df.head()"
   ]
  },
  {
   "cell_type": "code",
   "execution_count": 83,
   "metadata": {
    "colab": {
     "base_uri": "https://localhost:8080/",
     "height": 185
    },
    "colab_type": "code",
    "executionInfo": {
     "elapsed": 1500,
     "status": "ok",
     "timestamp": 1590281214424,
     "user": {
      "displayName": "Karina Reyes",
      "photoUrl": "https://lh3.googleusercontent.com/a-/AOh14GiupGB3xDxzXXRETrierC907ibyYiIxiPSUkO_0og=s64",
      "userId": "16604232998867032878"
     },
     "user_tz": 300
    },
    "id": "i-tjkb0qEi54",
    "outputId": "fcd8e151-9450-4d9f-d4cd-ba3aa11b492a"
   },
   "outputs": [
    {
     "name": "stdout",
     "output_type": "stream",
     "text": [
      "Train data size:  1280000\n",
      "Test data size:  320000\n",
      "Train data distr:\n",
      " 4    640000\n",
      "0    640000\n",
      "Name: target, dtype: int64\n",
      "Test data distr:\n",
      " 4    160000\n",
      "0    160000\n",
      "Name: target, dtype: int64\n"
     ]
    }
   ],
   "source": [
    "# set 80% for our data to train\n",
    "train_size = 0.8\n",
    "\n",
    "# split our data into train set (80%) and test set (20%)\n",
    "train_data, test_data = train_test_split(df, test_size = 1 - train_size, random_state = 0, stratify = df.target)\n",
    "\n",
    "# length of each set\n",
    "print(\"Train data size: \", len(train_data))\n",
    "print(\"Test data size: \", len(test_data))\n",
    "\n",
    "# how many examples of each class there is in each set\n",
    "print(\"Train data distr:\\n\", train_data.target.value_counts())\n",
    "print(\"Test data distr:\\n\", test_data.target.value_counts())"
   ]
  },
  {
   "cell_type": "code",
   "execution_count": 0,
   "metadata": {
    "colab": {},
    "colab_type": "code",
    "id": "KckuUkO8Ei6U"
   },
   "outputs": [],
   "source": [
    "# create a label encoder\n",
    "encoder = LabelEncoder()\n",
    "# enconde labels (0 or 1) in train data\n",
    "encoder.fit(train_data.target.to_list())\n",
    "\n",
    "# transform labels in y_train and y_test data to the encoded ones\n",
    "y_train = encoder.transform(train_data.target.to_list())\n",
    "y_test = encoder.transform(test_data.target.to_list())\n",
    "\n",
    "# reshape y_train and y_test data\n",
    "y_train = y_train.reshape(-1, 1)\n",
    "y_test = y_test.reshape(-1, 1)"
   ]
  },
  {
   "cell_type": "code",
   "execution_count": 0,
   "metadata": {
    "colab": {},
    "colab_type": "code",
    "id": "p1kHwQfQEi6E"
   },
   "outputs": [],
   "source": [
    "# create a tokenizer\n",
    "tokenizer = Tokenizer()\n",
    "# fit the tokenizer in the train text\n",
    "tokenizer.fit_on_texts(train_data.text)"
   ]
  },
  {
   "cell_type": "code",
   "execution_count": null,
   "metadata": {},
   "outputs": [],
   "source": [
    "# saving tokenizer\n",
    "with open('tokenizer.pickle', 'wb') as handle:\n",
    "    pickle.dump(tokenizer, handle, protocol = pickle.HIGHEST_PROTOCOL)"
   ]
  },
  {
   "cell_type": "code",
   "execution_count": 0,
   "metadata": {
    "colab": {},
    "colab_type": "code",
    "id": "fvwubztJEi6M"
   },
   "outputs": [],
   "source": [
    "# get max length of the train data\n",
    "max_length = max([len(s.split()) for s in train_data.text])\n",
    "\n",
    "# pad sequences in x_train data set to the max length\n",
    "x_train = pad_sequences(tokenizer.texts_to_sequences(train_data.text),\n",
    "                        maxlen = max_length)\n",
    "# pad sequences in x_test data set to the max length\n",
    "x_test = pad_sequences(tokenizer.texts_to_sequences(test_data.text),\n",
    "                       maxlen = max_length)"
   ]
  },
  {
   "cell_type": "code",
   "execution_count": 87,
   "metadata": {
    "colab": {
     "base_uri": "https://localhost:8080/",
     "height": 84
    },
    "colab_type": "code",
    "executionInfo": {
     "elapsed": 835,
     "status": "ok",
     "timestamp": 1590281312697,
     "user": {
      "displayName": "Karina Reyes",
      "photoUrl": "https://lh3.googleusercontent.com/a-/AOh14GiupGB3xDxzXXRETrierC907ibyYiIxiPSUkO_0og=s64",
      "userId": "16604232998867032878"
     },
     "user_tz": 300
    },
    "id": "FLhOomtKEi6e",
    "outputId": "91fc1824-8b86-4bed-fdd4-d471139f8720"
   },
   "outputs": [
    {
     "name": "stdout",
     "output_type": "stream",
     "text": [
      "x_train shape:  (1280000, 50)\n",
      "x_test shape:  (320000, 50)\n",
      "y_train shape: (1280000, 1)\n",
      "y_test shape: (320000, 1)\n"
     ]
    }
   ],
   "source": [
    "print(\"x_train shape: \", x_train.shape)\n",
    "print(\"x_test shape: \", x_test.shape)\n",
    "\n",
    "print(\"y_train shape:\", y_train.shape)\n",
    "print(\"y_test shape:\", y_test.shape)"
   ]
  },
  {
   "cell_type": "code",
   "execution_count": 88,
   "metadata": {
    "colab": {
     "base_uri": "https://localhost:8080/",
     "height": 50
    },
    "colab_type": "code",
    "executionInfo": {
     "elapsed": 126412,
     "status": "ok",
     "timestamp": 1590281441665,
     "user": {
      "displayName": "Karina Reyes",
      "photoUrl": "https://lh3.googleusercontent.com/a-/AOh14GiupGB3xDxzXXRETrierC907ibyYiIxiPSUkO_0og=s64",
      "userId": "16604232998867032878"
     },
     "user_tz": 300
    },
    "id": "4BySy68iEi6t",
    "outputId": "33c921c1-d6e9-41d2-93ae-385b4aae6777"
   },
   "outputs": [
    {
     "name": "stdout",
     "output_type": "stream",
     "text": [
      "Vocab size:  290714\n",
      "Max length:  50\n"
     ]
    }
   ],
   "source": [
    "# load embedding as a dict\n",
    "def load_embedding(filename):\n",
    "    # load embedding into memory, skip first line\n",
    "    file = open(filename,'r',encoding=\"utf-8\")\n",
    "    lines = file.readlines()\n",
    "    file.close()\n",
    "    # create a map of words to vectors\n",
    "    embedding = dict()\n",
    "    for line in lines:\n",
    "        parts = line.split()\n",
    "        # key is string word, value is numpy array for vector\n",
    "        embedding[parts[0]] = asarray(parts[1:], dtype='float32')\n",
    "    return embedding\n",
    "\n",
    "# create a weight matrix for the Embedding layer from a loaded embedding\n",
    "def get_weight_matrix(embedding, vocab):\n",
    "    # total vocabulary size plus 0 for unknown words\n",
    "    vocab_size = len(vocab) + 1\n",
    "    # define weight matrix dimensions with all 0\n",
    "    weight_matrix = zeros((vocab_size, embedding_dim))\n",
    "    # step vocab, store vectors using the Tokenizer's integer mapping\n",
    "    for word, i in vocab.items():\n",
    "        vector = embedding.get(word)\n",
    "        if vector is not None:\n",
    "            weight_matrix[i] = vector\n",
    "    return weight_matrix\n",
    "\n",
    "# contains the index for each word\n",
    "vocab = tokenizer.word_index\n",
    "# total number of words in our vocabulary, plus one for unknown words\n",
    "vocab_size = len(tokenizer.word_index) + 1\n",
    "# embedding dimensions\n",
    "embedding_dim = 200\n",
    "\n",
    "print(\"Vocab size: \", vocab_size)\n",
    "print(\"Max length: \", max_length)\n",
    "\n",
    "# load embedding from file\n",
    "raw_embedding = load_embedding('./data/glove/glove.twitter.27B.200d.txt')\n",
    "# get vectors in the right order\n",
    "embedding_matrix = get_weight_matrix(raw_embedding, vocab)\n",
    "\n",
    "# create the embedding layer\n",
    "embedding_layer = Embedding(vocab_size, \n",
    "                            embedding_dim, \n",
    "                            weights = [embedding_matrix], \n",
    "                            input_length = max_length, \n",
    "                            trainable = False)"
   ]
  },
  {
   "cell_type": "code",
   "execution_count": 95,
   "metadata": {
    "colab": {
     "base_uri": "https://localhost:8080/",
     "height": 336
    },
    "colab_type": "code",
    "executionInfo": {
     "elapsed": 1095,
     "status": "ok",
     "timestamp": 1590288302841,
     "user": {
      "displayName": "Karina Reyes",
      "photoUrl": "https://lh3.googleusercontent.com/a-/AOh14GiupGB3xDxzXXRETrierC907ibyYiIxiPSUkO_0og=s64",
      "userId": "16604232998867032878"
     },
     "user_tz": 300
    },
    "id": "2ImFdJCYEi61",
    "outputId": "1fcccb13-6caa-4064-8a19-aa7a0f4446ef"
   },
   "outputs": [
    {
     "name": "stdout",
     "output_type": "stream",
     "text": [
      "Model: \"sequential_21\"\n",
      "_________________________________________________________________\n",
      "Layer (type)                 Output Shape              Param #   \n",
      "=================================================================\n",
      "embedding_2 (Embedding)      (None, 50, 200)           58142800  \n",
      "_________________________________________________________________\n",
      "dropout_19 (Dropout)         (None, 50, 200)           0         \n",
      "_________________________________________________________________\n",
      "lstm_21 (LSTM)               (None, 200)               320800    \n",
      "_________________________________________________________________\n",
      "dense_37 (Dense)             (None, 64)                12864     \n",
      "_________________________________________________________________\n",
      "dense_38 (Dense)             (None, 1)                 65        \n",
      "=================================================================\n",
      "Total params: 58,476,529\n",
      "Trainable params: 333,729\n",
      "Non-trainable params: 58,142,800\n",
      "_________________________________________________________________\n",
      "None\n"
     ]
    }
   ],
   "source": [
    "# define model\n",
    "model = Sequential()\n",
    "model.add(embedding_layer)\n",
    "model.add(Dropout(0.2))\n",
    "model.add(LSTM(200, dropout = 0.2))\n",
    "model.add(Dense(64, activation='relu'))\n",
    "model.add(Dense(1, activation = \"sigmoid\"))\n",
    "\n",
    "print(model.summary())\n",
    "\n",
    "model.compile(optimizer = \"adam\", loss = 'binary_crossentropy', metrics = ['accuracy'])"
   ]
  },
  {
   "cell_type": "code",
   "execution_count": 96,
   "metadata": {
    "colab": {
     "base_uri": "https://localhost:8080/",
     "height": 538
    },
    "colab_type": "code",
    "executionInfo": {
     "elapsed": 3087277,
     "status": "ok",
     "timestamp": 1590291466226,
     "user": {
      "displayName": "Karina Reyes",
      "photoUrl": "https://lh3.googleusercontent.com/a-/AOh14GiupGB3xDxzXXRETrierC907ibyYiIxiPSUkO_0og=s64",
      "userId": "16604232998867032878"
     },
     "user_tz": 300
    },
    "id": "WbnClkIfEi69",
    "outputId": "9b60af33-0b20-4409-f3d4-b223c521bb92"
   },
   "outputs": [
    {
     "name": "stdout",
     "output_type": "stream",
     "text": [
      "Train on 1152000 samples, validate on 128000 samples\n",
      "Epoch 1/15\n",
      "1152000/1152000 [==============================] - 206s 179us/step - loss: 0.4954 - accuracy: 0.7551 - val_loss: 0.4537 - val_accuracy: 0.7836\n",
      "Epoch 2/15\n",
      "1152000/1152000 [==============================] - 206s 178us/step - loss: 0.4657 - accuracy: 0.7762 - val_loss: 0.4421 - val_accuracy: 0.7904\n",
      "Epoch 3/15\n",
      "1152000/1152000 [==============================] - 206s 178us/step - loss: 0.4547 - accuracy: 0.7826 - val_loss: 0.4352 - val_accuracy: 0.7947\n",
      "Epoch 4/15\n",
      "1152000/1152000 [==============================] - 206s 179us/step - loss: 0.4467 - accuracy: 0.7876 - val_loss: 0.4309 - val_accuracy: 0.7975\n",
      "Epoch 5/15\n",
      "1152000/1152000 [==============================] - 206s 179us/step - loss: 0.4413 - accuracy: 0.7907 - val_loss: 0.4284 - val_accuracy: 0.7989\n",
      "Epoch 6/15\n",
      "1152000/1152000 [==============================] - 205s 178us/step - loss: 0.4364 - accuracy: 0.7936 - val_loss: 0.4288 - val_accuracy: 0.7987\n",
      "Epoch 7/15\n",
      "1152000/1152000 [==============================] - 206s 179us/step - loss: 0.4324 - accuracy: 0.7957 - val_loss: 0.4278 - val_accuracy: 0.7982\n",
      "Epoch 8/15\n",
      "1152000/1152000 [==============================] - 205s 178us/step - loss: 0.4292 - accuracy: 0.7976 - val_loss: 0.4258 - val_accuracy: 0.8004\n",
      "Epoch 9/15\n",
      "1152000/1152000 [==============================] - 206s 179us/step - loss: 0.4265 - accuracy: 0.7992 - val_loss: 0.4244 - val_accuracy: 0.8017\n",
      "Epoch 10/15\n",
      "1152000/1152000 [==============================] - 204s 178us/step - loss: 0.4239 - accuracy: 0.8005 - val_loss: 0.4239 - val_accuracy: 0.8019\n",
      "Epoch 11/15\n",
      "1152000/1152000 [==============================] - 206s 179us/step - loss: 0.4216 - accuracy: 0.8021 - val_loss: 0.4231 - val_accuracy: 0.8013\n",
      "Epoch 12/15\n",
      "1152000/1152000 [==============================] - 205s 178us/step - loss: 0.4195 - accuracy: 0.8033 - val_loss: 0.4242 - val_accuracy: 0.8019\n",
      "Epoch 13/15\n",
      "1152000/1152000 [==============================] - 206s 179us/step - loss: 0.4175 - accuracy: 0.8046 - val_loss: 0.4234 - val_accuracy: 0.8026\n",
      "Epoch 14/15\n",
      "1152000/1152000 [==============================] - 206s 179us/step - loss: 0.4160 - accuracy: 0.8049 - val_loss: 0.4256 - val_accuracy: 0.8011\n",
      "Epoch 15/15\n",
      "1152000/1152000 [==============================] - 207s 179us/step - loss: 0.4144 - accuracy: 0.8060 - val_loss: 0.4240 - val_accuracy: 0.8021\n"
     ]
    }
   ],
   "source": [
    "# train model\n",
    "BATCH_SIZE = 1024\n",
    "EPOCHS = 15\n",
    "\n",
    "reduce_lr = ReduceLROnPlateau(monitor = 'val_loss', \n",
    "                              factor = 0.1,\n",
    "                              min_lr = 0.01)\n",
    "\n",
    "history = model.fit(x_train, y_train, batch_size = BATCH_SIZE, epochs = EPOCHS,\n",
    "                    validation_split = 0.1, verbose = 1, callbacks = [reduce_lr])"
   ]
  },
  {
   "cell_type": "code",
   "execution_count": 97,
   "metadata": {
    "colab": {
     "base_uri": "https://localhost:8080/",
     "height": 67
    },
    "colab_type": "code",
    "executionInfo": {
     "elapsed": 18725,
     "status": "ok",
     "timestamp": 1590291507022,
     "user": {
      "displayName": "Karina Reyes",
      "photoUrl": "https://lh3.googleusercontent.com/a-/AOh14GiupGB3xDxzXXRETrierC907ibyYiIxiPSUkO_0og=s64",
      "userId": "16604232998867032878"
     },
     "user_tz": 300
    },
    "id": "5LQiVhRNEi7N",
    "outputId": "85e46d5d-b89f-43ae-b654-386c3d8533e4"
   },
   "outputs": [
    {
     "name": "stdout",
     "output_type": "stream",
     "text": [
      "320000/320000 [==============================] - 18s 56us/step\n",
      "Test loss: 0.4292493818759918\n",
      "Test accuracy: 0.8007687330245972\n"
     ]
    }
   ],
   "source": [
    "# evaluate model\n",
    "score = model.evaluate(x_test, y_test, batch_size = BATCH_SIZE)\n",
    "print(\"Test loss:\", score[0])\n",
    "print(\"Test accuracy:\", score[1])"
   ]
  },
  {
   "cell_type": "code",
   "execution_count": 0,
   "metadata": {
    "colab": {},
    "colab_type": "code",
    "id": "-OwsdFeBEi7E"
   },
   "outputs": [],
   "source": [
    "# save model\n",
    "model.save('model_final.h5')"
   ]
  },
  {
   "cell_type": "code",
   "execution_count": 99,
   "metadata": {
    "colab": {
     "base_uri": "https://localhost:8080/",
     "height": 545
    },
    "colab_type": "code",
    "executionInfo": {
     "elapsed": 831,
     "status": "ok",
     "timestamp": 1590291530075,
     "user": {
      "displayName": "Karina Reyes",
      "photoUrl": "https://lh3.googleusercontent.com/a-/AOh14GiupGB3xDxzXXRETrierC907ibyYiIxiPSUkO_0og=s64",
      "userId": "16604232998867032878"
     },
     "user_tz": 300
    },
    "id": "63M2tsg1Ei7W",
    "outputId": "016f82ef-2d43-49b7-a90b-a52c1dafc8b9"
   },
   "outputs": [
    {
     "data": {
      "image/png": "[encoded data removed]",
      "text/plain": [
       "<Figure size 432x288 with 1 Axes>"
      ]
     },
     "metadata": {
      "needs_background": "light",
      "tags": []
     },
     "output_type": "display_data"
    },
    {
     "data": {
      "image/png": "[encoded data removed]",
      "text/plain": [
       "<Figure size 432x288 with 1 Axes>"
      ]
     },
     "metadata": {
      "needs_background": "light",
      "tags": []
     },
     "output_type": "display_data"
    }
   ],
   "source": [
    "# plotting model performance\n",
    "acc = history.history['accuracy']\n",
    "val_acc = history.history['val_accuracy']\n",
    "loss = history.history['loss'] \n",
    "val_loss = history.history['val_loss']\n",
    "\n",
    "epochs = range(1, len(acc) + 1)\n",
    "\n",
    "plt.plot(epochs, acc, 'bo', label = 'Training acc')\n",
    "plt.plot(epochs, val_acc, 'b', label = 'Validation acc')\n",
    "plt.title('Training and validation accuracy')\n",
    "plt.legend()\n",
    "plt.figure()\n",
    "\n",
    "plt.plot(epochs, loss, 'bo', label = 'Training loss')\n",
    "plt.plot(epochs, val_loss, 'b', label = 'Validation loss')\n",
    "plt.title('Training and validation loss')\n",
    "plt.legend()\n",
    "plt.show()"
   ]
  },
  {
   "cell_type": "code",
   "execution_count": 11,
   "metadata": {
    "colab": {
     "base_uri": "https://localhost:8080/",
     "height": 229
    },
    "colab_type": "code",
    "executionInfo": {
     "elapsed": 2244,
     "status": "error",
     "timestamp": 1590293503699,
     "user": {
      "displayName": "Karina Reyes",
      "photoUrl": "https://lh3.googleusercontent.com/a-/AOh14GiupGB3xDxzXXRETrierC907ibyYiIxiPSUkO_0og=s64",
      "userId": "16604232998867032878"
     },
     "user_tz": 300
    },
    "id": "h2869QZMEi7g",
    "outputId": "77879756-df4d-4cae-f2c8-ce4460e9a17f"
   },
   "outputs": [
    {
     "ename": "NameError",
     "evalue": "ignored",
     "output_type": "error",
     "traceback": [
      "\u001b[0;31m---------------------------------------------------------------------------\u001b[0m",
      "\u001b[0;31mNameError\u001b[0m                                 Traceback (most recent call last)",
      "\u001b[0;32m<ipython-input-11-a2f148a56af0>\u001b[0m in \u001b[0;36m<module>\u001b[0;34m()\u001b[0m\n\u001b[1;32m     12\u001b[0m \u001b[0minput_text\u001b[0m \u001b[0;34m=\u001b[0m \u001b[0mclean_text\u001b[0m\u001b[0;34m(\u001b[0m\u001b[0mquery_text\u001b[0m\u001b[0;34m)\u001b[0m\u001b[0;34m\u001b[0m\u001b[0;34m\u001b[0m\u001b[0m\n\u001b[1;32m     13\u001b[0m \u001b[0;31m# tokenize and pad query test as in training\u001b[0m\u001b[0;34m\u001b[0m\u001b[0;34m\u001b[0m\u001b[0;34m\u001b[0m\u001b[0m\n\u001b[0;32m---> 14\u001b[0;31m input_text = pad_sequences(tokenizer.texts_to_sequences([input_text]),\n\u001b[0m\u001b[1;32m     15\u001b[0m                         maxlen = max_length)\n\u001b[1;32m     16\u001b[0m \u001b[0;34m\u001b[0m\u001b[0m\n",
      "\u001b[0;31mNameError\u001b[0m: name 'tokenizer' is not defined"
     ]
    }
   ],
   "source": [
    "# decode score prediction from the model, to be 0 or 1\n",
    "def decode_prediction(prediction):\n",
    "    return 'Negative' if prediction < 0.5 else 'Positive'\n",
    "\n",
    "# load model\n",
    "model = load_model('model_final.h5')\n",
    "# loading tokenizer\n",
    "with open('tokenizer.pickle', 'rb') as handle:\n",
    "    tokenizer = pickle.load(handle)\n",
    "\n",
    "# test model with a new query\n",
    "query_text = \"im sad\"\n",
    "\n",
    "# clean query text\n",
    "input_text = clean_text(query_text)\n",
    "# tokenize and pad query test as in training\n",
    "input_text = pad_sequences(tokenizer.texts_to_sequences([input_text]),\n",
    "                        maxlen = max_length)\n",
    "\n",
    "# get model prediction\n",
    "prediction = model.predict([input_text])[0]\n",
    "# get decode prediction\n",
    "label = decode_prediction(prediction)\n",
    "\n",
    "print(\"Tweet: \\n\\n{}\\n\".format(query_text))\n",
    "print(\"Score: {} Label: {}\".format(prediction, label))"
   ]
  },
  {
   "cell_type": "code",
   "execution_count": 0,
   "metadata": {
    "colab": {},
    "colab_type": "code",
    "id": "UnYBfGv-Ei7o"
   },
   "outputs": [],
   "source": []
  },
  {
   "cell_type": "code",
   "execution_count": 0,
   "metadata": {
    "colab": {},
    "colab_type": "code",
    "id": "_34KsJLYEi7w"
   },
   "outputs": [],
   "source": []
  }
 ],
 "metadata": {
  "accelerator": "GPU",
  "colab": {
   "collapsed_sections": [],
   "name": "sentiment_analysis.ipynb",
   "provenance": []
  },
  "kernelspec": {
   "display_name": "Python 3",
   "language": "python",
   "name": "python3"
  },
  "language_info": {
   "codemirror_mode": {
    "name": "ipython",
    "version": 3
   },
   "file_extension": ".py",
   "mimetype": "text/x-python",
   "name": "python",
   "nbconvert_exporter": "python",
   "pygments_lexer": "ipython3",
   "version": "3.7.7"
  }
 },
 "nbformat": 4,
 "nbformat_minor": 1
}
